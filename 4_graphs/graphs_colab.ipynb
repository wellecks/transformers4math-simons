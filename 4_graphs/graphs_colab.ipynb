{
  "cells": [
    {
      "cell_type": "markdown",
      "metadata": {
        "id": "view-in-github",
        "colab_type": "text"
      },
      "source": [
        "<a href=\"https://colab.research.google.com/github/wellecks/transformers4math-simons/blob/main/4_graphs/graphs_colab.ipynb\" target=\"_parent\"><img src=\"https://colab.research.google.com/assets/colab-badge.svg\" alt=\"Open In Colab\"/></a>"
      ]
    },
    {
      "cell_type": "markdown",
      "metadata": {
        "id": "8bfIUgf9OAfw"
      },
      "source": [
        "### Part 4: Applications | Triangle-Free Graphs\n",
        "\n",
        "**Tutorial on Transformers for Mathematics**\n",
        "\n",
        "*Simons Institute and SLMath Joint Workshop: AI for Mathematics and Theoretical Computer Science, April 8 2025*\n",
        "\n",
        "Author: Sean Welleck\n",
        "\n",
        "------\n",
        "\n",
        "This notebook trains a transformer language model on a dataset using the [makemore]() library as a black box.\n",
        "\n",
        "Then we generate outputs with the language model and evaluate the outputs.\n",
        "\n",
        "The task is **finding a triangle-free graph on n-vertices with the maximal number of edges** as described in the tutorial talk.\n",
        "\n",
        "------\n"
      ]
    },
    {
      "cell_type": "code",
      "source": [
        "# Download files\n",
        "!mkdir out\n",
        "!wget https://raw.githubusercontent.com/wellecks/transformers4math-simons/refs/heads/main/4_graphs/graph_utils.py -O graph_utils.py\n",
        "!wget https://raw.githubusercontent.com/wellecks/transformers4math-simons/refs/heads/main/4_graphs/local_search.py -O local_search.py\n",
        "!wget https://raw.githubusercontent.com/wellecks/transformers4math-simons/refs/heads/main/4_graphs/makemore.py -O makemore.py\n",
        "!wget https://github.com/wellecks/transformers4math-simons/raw/refs/heads/main/4_graphs/out/model_top10_provided.pt -O out/model_top10_provided.pt"
      ],
      "metadata": {
        "id": "8epvCcnSOBtx"
      },
      "execution_count": null,
      "outputs": []
    },
    {
      "cell_type": "markdown",
      "metadata": {
        "id": "8JnHpNZ2OAfw"
      },
      "source": [
        "#### Dataset\n",
        "\n",
        "First run local search to get the dataset"
      ]
    },
    {
      "cell_type": "code",
      "execution_count": null,
      "metadata": {
        "id": "aPX2xCkSOAfw"
      },
      "outputs": [],
      "source": [
        "!python local_search.py"
      ]
    },
    {
      "cell_type": "code",
      "execution_count": 3,
      "metadata": {
        "id": "IRxa5twVOAfx",
        "outputId": "560f2500-96e0-4897-eca5-8950e8327144",
        "colab": {
          "base_uri": "https://localhost:8080/"
        }
      },
      "outputs": [
        {
          "output_type": "stream",
          "name": "stdout",
          "text": [
            "0010000011000100101,110001100110100001,01110010001010110,1110000001010010,001101010001001,01101010100001,1101010100001,010001010110,10001010110,0010001000,100000010,01011000,1010110,100001,11000,0001,110,00,1\n",
            "0000001001101110000,011010000001100101,00001001101110000,0101111100001010,101101100011010,10000011000101,1111100001010,000010000101,00001100101,0001110100,010000101,10000101,0110000,001010,01010,0001,101,10,1\n",
            "0101001110101010000,101001110101000110,00100001010101001,0101001010011000,110001010100001,00110101000110,1000101001100,000000100001,01010101001,1010101001,101000110,10100001,1000110,100001,00110,0110,010,01,1\n",
            "1110101011000110001,001000000111000110,00000100111000110,0000100111000110,000101000110001,10100110000110,0000001111000,100111000110,10000001000,0111000110,111000110,00111000,0110001,000001,00110,0110,101,00,1\n",
            "0011000010011110001,011000110011010001,11000001011100000,0110000000001110,011000100001110,01010101110001,0110011010001,100010000000,01100100010,1000001110,000010001,10000000,0001110,001110,01100,1110,001,01,1\n"
          ]
        }
      ],
      "source": [
        "dataset = \"data/top_10_percent_graphs.txt\"\n",
        "\n",
        "!head -n 5 $dataset"
      ]
    },
    {
      "cell_type": "markdown",
      "metadata": {
        "id": "9Z25MxupOAfx"
      },
      "source": [
        "### Train a transformer language model on the dataset\n",
        "\n",
        "On Colab, please select go to `Runtime -> Change runtime type -> T4 GPU` to run this on a GPU. You'll need to re-run the cells up to this point. You can also run on CPU by removing --device cuda in the commands below."
      ]
    },
    {
      "cell_type": "code",
      "execution_count": null,
      "metadata": {
        "id": "14DraWZ5OAfx"
      },
      "outputs": [],
      "source": [
        "!python makemore.py -i $dataset --n-layer 4 --n-head 4 --n-embd 64 --n-embd2 64 --max-steps 50000 --device cuda"
      ]
    },
    {
      "cell_type": "markdown",
      "metadata": {
        "id": "rpSMSrcGOAfx"
      },
      "source": [
        "### Generate graphs"
      ]
    },
    {
      "cell_type": "code",
      "execution_count": null,
      "metadata": {
        "id": "jvdkZ9D_OAfx"
      },
      "outputs": [],
      "source": [
        "import makemore\n",
        "import torch\n",
        "\n",
        "def load(filename='out/model_top10_provided.pt', dataset='data/top_10_percent_graphs.txt', n_layer=4, n_head=4, n_embd=64, n_embd2=64):\n",
        "    train_dataset, test_dataset = makemore.create_datasets(dataset)\n",
        "    vocab_size = train_dataset.get_vocab_size()\n",
        "    block_size = train_dataset.get_output_length()\n",
        "\n",
        "    config = makemore.ModelConfig(\n",
        "        vocab_size=vocab_size, block_size=block_size,\n",
        "        n_layer=n_layer, n_head=n_head,\n",
        "        n_embd=n_embd, n_embd2=n_embd2\n",
        "    )\n",
        "    model = makemore.Transformer(config)\n",
        "    model.load_state_dict(torch.load(filename, map_location=torch.device('cpu')))\n",
        "    return train_dataset, test_dataset, model"
      ]
    },
    {
      "cell_type": "code",
      "execution_count": null,
      "metadata": {
        "id": "1xD-zNOrOAfx",
        "outputId": "d523241f-040d-49c8-f4dc-210545f85bde"
      },
      "outputs": [
        {
          "name": "stdout",
          "output_type": "stream",
          "text": [
            "number of examples in the dataset: 13147\n",
            "max word length: 208\n",
            "number of unique characters in the vocabulary: 3\n",
            "vocabulary:\n",
            ",01\n",
            "split up the dataset into 12147 training examples and 1000 test examples\n",
            "number of parameters: 0.21M\n"
          ]
        },
        {
          "name": "stderr",
          "output_type": "stream",
          "text": [
            "100%|██████████| 62/62 [04:56<00:00,  4.78s/it]\n"
          ]
        }
      ],
      "source": [
        "import graph_utils\n",
        "num_samples = 1000\n",
        "device = 'cpu'\n",
        "\n",
        "train_dataset, test_dataset, model = load()\n",
        "\n",
        "# Generate many samples\n",
        "all_samples, new_samples = graph_utils.batch_generate(model, train_dataset, num=num_samples, device=device)\n",
        "# Evaluate the samples\n",
        "scores = []\n",
        "for sample in all_samples:\n",
        "    adj_matrix = graph_utils.deserialize_graph(sample)\n",
        "    if adj_matrix is not None:\n",
        "        score = graph_utils.evaluate_graph(adj_matrix)\n",
        "        scores.append(score)"
      ]
    },
    {
      "cell_type": "code",
      "execution_count": null,
      "metadata": {
        "id": "e6_d2grKOAfx",
        "outputId": "ae1c3902-8e6d-4910-ebd9-5c3f4040d3f7"
      },
      "outputs": [
        {
          "data": {
            "text/plain": [
              "<matplotlib.legend.Legend at 0x2e23ce3e0>"
            ]
          },
          "execution_count": 5,
          "metadata": {},
          "output_type": "execute_result"
        },
        {
          "data": {
            "image/png": "[encoded data removed]",
            "text/plain": [
              "<Figure size 1000x600 with 1 Axes>"
            ]
          },
          "metadata": {},
          "output_type": "display_data"
        }
      ],
      "source": [
        "import matplotlib.pyplot as plt\n",
        "\n",
        "# Read all graphs dataset\n",
        "with open('data/all_graphs.txt', 'r') as f:\n",
        "    serialized_graphs = [line.strip() for line in f]\n",
        "\n",
        "# Deserialize and evaluate each graph\n",
        "data_scores = []\n",
        "for graph_str in serialized_graphs:\n",
        "    adj_matrix = graph_utils.deserialize_graph(graph_str)\n",
        "    if adj_matrix is None:\n",
        "        continue\n",
        "    score = graph_utils.evaluate_graph(adj_matrix)\n",
        "    data_scores.append(score)\n",
        "\n",
        "# Plot distribution of both sets of scores\n",
        "plt.figure(figsize=(10, 6))\n",
        "plt.hist(data_scores, bins=range(int(min(data_scores)), int(max(data_scores)) + 2), alpha=0.4, density=True, color='salmon', label='Naive search', edgecolor='black')\n",
        "plt.hist(scores, bins=range(int(min(scores)), int(max(scores)) + 2), alpha=0.4, density=True, color='skyblue', label='Transformer', edgecolor='black')\n",
        "\n",
        "plt.xlabel('Number of Edges')\n",
        "plt.ylabel('Frequency')\n",
        "plt.title('Distribution of Graph Scores')\n",
        "plt.grid(alpha=0.3)\n",
        "plt.legend()"
      ]
    },
    {
      "cell_type": "code",
      "execution_count": null,
      "metadata": {
        "id": "FlPTSeD-OAfx"
      },
      "outputs": [],
      "source": []
    }
  ],
  "metadata": {
    "kernelspec": {
      "display_name": "Python 3",
      "name": "python3"
    },
    "language_info": {
      "codemirror_mode": {
        "name": "ipython",
        "version": 3
      },
      "file_extension": ".py",
      "mimetype": "text/x-python",
      "name": "python",
      "nbconvert_exporter": "python",
      "pygments_lexer": "ipython3",
      "version": "3.10.13"
    },
    "colab": {
      "provenance": [],
      "gpuType": "T4",
      "include_colab_link": true
    },
    "accelerator": "GPU"
  },
  "nbformat": 4,
  "nbformat_minor": 0
}